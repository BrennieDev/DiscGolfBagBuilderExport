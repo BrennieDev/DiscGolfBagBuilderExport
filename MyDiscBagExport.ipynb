{
 "cells": [
  {
   "cell_type": "code",
   "execution_count": 35,
   "id": "c424cf00",
   "metadata": {},
   "outputs": [],
   "source": [
    "import bs4\n",
    "import requests\n",
    "import json\n",
    "import xlsxwriter"
   ]
  },
  {
   "cell_type": "code",
   "execution_count": 6,
   "id": "90f84609",
   "metadata": {},
   "outputs": [],
   "source": [
    "# Copy and paste your discgolfbagbuilder.com cookie into the empty quotes on the line below\n",
    "## To get this cookie:\n",
    "## 1. Go to discgolfbagbuilder.com/disc\n",
    "## 2. open the dev tools on your browser (cntr+shft+i)\n",
    "## 3. click to the \"Network\" tab and refresh the browser page\n",
    "## 4. search through the list of request until you see one named \"discs\"\n",
    "## 5. click it, and scroll through to \"Request Headers\" to find the \"cookie\" header\n",
    "## 6. right click and copy the header value, paste it between the quotes below\n",
    "cookie = \"\""
   ]
  },
  {
   "cell_type": "code",
   "execution_count": 56,
   "id": "8630a309",
   "metadata": {},
   "outputs": [],
   "source": [
    "# Send GET request to discgolfbagbuilder\n",
    "url = \"https://www.discgolfbagbuilder.com/discs\"\n",
    "r=requests.get(url, headers={\"cookie\":cookie})"
   ]
  },
  {
   "cell_type": "code",
   "execution_count": 57,
   "id": "131a023b",
   "metadata": {},
   "outputs": [],
   "source": [
    "# Parse request respone for disc info\n",
    "soup = bs4.BeautifulSoup(r.content, \"html.parser\")\n",
    "disc_info = soup.find_all(\"x-flight-chart\")[0][\"discs\"]\n",
    "disc_dict = json.loads(disc_info)"
   ]
  },
  {
   "cell_type": "code",
   "execution_count": 58,
   "id": "8ca88b10",
   "metadata": {},
   "outputs": [],
   "source": [
    "# Build excel workbook\n",
    "workbook = xlsxwriter.Workbook('DiscGolfBagBuilder_Export.xlsx')\n",
    "worksheet = workbook.add_worksheet()\n",
    "row = 0\n",
    "col = 0"
   ]
  },
  {
   "cell_type": "code",
   "execution_count": 52,
   "id": "c0034964",
   "metadata": {},
   "outputs": [],
   "source": [
    "# Set column headers\n",
    "worksheet.write(row, col, \"Type\")\n",
    "worksheet.write(row, col+1, \"Manufacturer\")\n",
    "worksheet.write(row, col+2, \"Model\")\n",
    "worksheet.write(row, col+3, \"Plastic\")\n",
    "worksheet.write(row, col+4, \"Weight\")\n",
    "worksheet.write(row, col+5, \"Name\")\n",
    "worksheet.write(row, col+6, \"Stamp\")\n",
    "worksheet.write(row, col+7, \"Ink\")\n",
    "worksheet.write(row, col+8, \"Condition\")\n",
    "worksheet.write(row, col+9, \"Notes\")\n",
    "worksheet.write(row, col+10, \"Speed\")\n",
    "worksheet.write(row, col+11, \"Glide\")\n",
    "worksheet.write(row, col+12, \"Turn\")\n",
    "worksheet.write(row, col+13, \"Fade\")\n",
    "\n",
    "row += 1"
   ]
  },
  {
   "cell_type": "code",
   "execution_count": 59,
   "id": "fa5fb557",
   "metadata": {},
   "outputs": [],
   "source": [
    "# Add row with each disc info\n",
    "for disc in disc_dict:\n",
    "    worksheet.write(row, col, disc[\"disc_model\"][\"disc_type\"])\n",
    "    worksheet.write(row, col+1, disc[\"disc_model\"][\"disc_manufacturer\"][\"common_name\"])\n",
    "    worksheet.write(row, col+2, disc[\"disc_model\"][\"name\"])\n",
    "    worksheet.write(row, col+3, disc[\"plastic_name\"])\n",
    "    worksheet.write(row, col+4, disc[\"weight\"])\n",
    "    worksheet.write(row, col+5, disc[\"name\"])\n",
    "    worksheet.write(row, col+6, disc[\"stamp\"])\n",
    "    worksheet.write(row, col+7, disc[\"ink\"])\n",
    "    worksheet.write(row, col+8, disc[\"condition\"])\n",
    "    worksheet.write(row, col+9, disc[\"notes\"])\n",
    "    worksheet.write(row, col+10, disc[\"speed\"])\n",
    "    worksheet.write(row, col+11, disc[\"glide\"])\n",
    "    worksheet.write(row, col+12, disc[\"turn\"])\n",
    "    worksheet.write(row, col+13, disc[\"fade\"])\n",
    "    \n",
    "    row += 1"
   ]
  },
  {
   "cell_type": "code",
   "execution_count": 55,
   "id": "1e8316a9",
   "metadata": {},
   "outputs": [],
   "source": [
    "# Save and close workbook\n",
    "workbook.close()"
   ]
  }
 ],
 "metadata": {
  "kernelspec": {
   "display_name": "Python 3",
   "language": "python",
   "name": "python3"
  },
  "language_info": {
   "codemirror_mode": {
    "name": "ipython",
    "version": 3
   },
   "file_extension": ".py",
   "mimetype": "text/x-python",
   "name": "python",
   "nbconvert_exporter": "python",
   "pygments_lexer": "ipython3",
   "version": "3.8.8"
  }
 },
 "nbformat": 4,
 "nbformat_minor": 5
}
